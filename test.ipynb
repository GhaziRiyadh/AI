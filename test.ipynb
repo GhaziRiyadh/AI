{
 "cells": [
  {
   "cell_type": "markdown",
   "metadata": {},
   "source": [
    "# Test 3 sort olgarithm.\n",
    "- Selection Sort:"
   ]
  },
  {
   "cell_type": "code",
   "execution_count": 16,
   "metadata": {},
   "outputs": [],
   "source": [
    "\n",
    "from random import randint\n",
    "from time import time"
   ]
  },
  {
   "cell_type": "markdown",
   "metadata": {},
   "source": [
    "Data for test:"
   ]
  },
  {
   "cell_type": "code",
   "execution_count": 11,
   "metadata": {},
   "outputs": [],
   "source": [
    "data = [randint(0,10000) for x in range(9999)]"
   ]
  },
  {
   "cell_type": "code",
   "execution_count": 17,
   "metadata": {},
   "outputs": [
    {
     "name": "stdout",
     "output_type": "stream",
     "text": [
      "Test time: -5.946612358093262\n"
     ]
    }
   ],
   "source": [
    "# Selection sort in Python\n",
    "\n",
    "from random import randint\n",
    "def selectionSort(array, size):\n",
    "    array2 = array\n",
    "   \n",
    "    for step in range(size):\n",
    "        min_idx = step\n",
    "\n",
    "        for i in range(step + 1, size):\n",
    "         \n",
    "            # to sort in descending order, change > to < in this line\n",
    "            # select the minimum element in each loop\n",
    "            if array2[i] < array2[min_idx]:\n",
    "                min_idx = i\n",
    "         \n",
    "        # put min at the correct position\n",
    "        (array2[step], array2[min_idx]) = (array2[min_idx], array2[step])\n",
    "\n",
    "\n",
    "size = len(data)\n",
    "start_time = time()\n",
    "selectionSort(data, size)\n",
    "print(f\"Test time: {start_time-time()}\")\n"
   ]
  },
  {
   "cell_type": "markdown",
   "metadata": {},
   "source": [
    "output:\n",
    "Test time: -5.946612358093262"
   ]
  },
  {
   "cell_type": "markdown",
   "metadata": {},
   "source": [
    "- Bubble sort:"
   ]
  },
  {
   "cell_type": "code",
   "execution_count": 18,
   "metadata": {},
   "outputs": [
    {
     "name": "stdout",
     "output_type": "stream",
     "text": [
      "Test time: -8.38021469116211\n"
     ]
    }
   ],
   "source": [
    "# Bubble sort in Python\n",
    "\n",
    "def bubbleSort(array):\n",
    "  array2 = array\n",
    "    \n",
    "  # loop to access each array element\n",
    "  for i in range(len(array2)):\n",
    "\n",
    "    # loop to compare array2 elements\n",
    "    for j in range(0, len(array2) - i - 1):\n",
    "\n",
    "      # compare two adjacent elements\n",
    "      # change > to < to sort in descending order\n",
    "      if array2[j] > array2[j + 1]:\n",
    "\n",
    "        # swapping elements if elements\n",
    "        # are not in the intended order\n",
    "        temp = array2[j]\n",
    "        array2[j] = array2[j+1]\n",
    "        array2[j+1] = temp\n",
    "\n",
    "start_time = time()\n",
    "bubbleSort(data)\n",
    "print(f\"Test time: {start_time-time()}\")\n"
   ]
  },
  {
   "cell_type": "markdown",
   "metadata": {},
   "source": [
    "output: Test time: -8.38021469116211"
   ]
  },
  {
   "cell_type": "markdown",
   "metadata": {},
   "source": [
    "- Merge Sort:"
   ]
  },
  {
   "cell_type": "code",
   "execution_count": 19,
   "metadata": {},
   "outputs": [
    {
     "name": "stdout",
     "output_type": "stream",
     "text": [
      "Test time: -0.06896114349365234\n"
     ]
    }
   ],
   "source": [
    "# MergeSort in Python\n",
    "\n",
    "\n",
    "def mergeSort(array):\n",
    "    array2 = array\n",
    "    if len(array2) > 1:\n",
    "\n",
    "        #  r is the point where the array2 is divided into two subarray2s\n",
    "        r = len(array2)//2\n",
    "        L = array2[:r]\n",
    "        M = array2[r:]\n",
    "\n",
    "        # Sort the two halves\n",
    "        mergeSort(L)\n",
    "        mergeSort(M)\n",
    "\n",
    "        i = j = k = 0\n",
    "\n",
    "        # Until we reach either end of either L or M, pick larger among\n",
    "        # elements L and M and place them in the correct position at A[p..r]\n",
    "        while i < len(L) and j < len(M):\n",
    "            if L[i] < M[j]:\n",
    "                array2[k] = L[i]\n",
    "                i += 1\n",
    "            else:\n",
    "                array2[k] = M[j]\n",
    "                j += 1\n",
    "            k += 1\n",
    "\n",
    "        # When we run out of elements in either L or M,\n",
    "        # pick up the remaining elements and put in A[p..r]\n",
    "        while i < len(L):\n",
    "            array2[k] = L[i]\n",
    "            i += 1\n",
    "            k += 1\n",
    "\n",
    "        while j < len(M):\n",
    "            array2[k] = M[j]\n",
    "            j += 1\n",
    "            k += 1\n",
    "\n",
    "\n",
    "# Print the array2\n",
    "def printList(data):\n",
    "    for i in range(len(data)):\n",
    "        print(data[i], end=\" \")\n",
    "    print()\n",
    "\n",
    "\n",
    "# Driver program\n",
    "if __name__ == '__main__':\n",
    "    start_time = time()\n",
    "    mergeSort(data)\n",
    "    print(f\"Test time: {start_time-time()}\")\n",
    "\n",
    "    "
   ]
  },
  {
   "cell_type": "markdown",
   "metadata": {},
   "source": [
    "output:Test time: -0.06896114349365234"
   ]
  }
 ],
 "metadata": {
  "interpreter": {
   "hash": "ab359b23bd6ecff43d64b981b9dec81928d844bd240685bafe1dcd52462cb2df"
  },
  "kernelspec": {
   "display_name": "Python 3.10.4 64-bit (system)",
   "language": "python",
   "name": "python3"
  },
  "language_info": {
   "codemirror_mode": {
    "name": "ipython",
    "version": 3
   },
   "file_extension": ".py",
   "mimetype": "text/x-python",
   "name": "python",
   "nbconvert_exporter": "python",
   "pygments_lexer": "ipython3",
   "version": "3.10.4"
  },
  "orig_nbformat": 4
 },
 "nbformat": 4,
 "nbformat_minor": 2
}
